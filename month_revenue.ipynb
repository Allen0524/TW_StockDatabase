{
 "cells": [
  {
   "cell_type": "code",
   "execution_count": 12,
   "metadata": {},
   "outputs": [],
   "source": [
    "import requests\n",
    "from io import StringIO\n",
    "import pandas as pd\n",
    "\n",
    "#爬月報表\n",
    "def crawlMonthReport(date):\n",
    "    \n",
    "    #date.year-1911 轉民國\n",
    "    url = 'https://mops.twse.com.tw/nas/t21/sii/t21sc03_'+str(date.year-1911)+'_'+str(date.month)+'.html'\n",
    "    r = requests.get(url)\n",
    "    r.encoding = 'big5'\n",
    "    dfs = pd.read_html(StringIO(r.text))\n",
    "    \n",
    "    #取得column name \n",
    "    #取df[6]只是舉例，因為它每個產業都有新的欄位名稱，[6]好像是塑膠產業\n",
    "    collist = [] \n",
    "    for i in dfs[6].columns:\n",
    "        collist.append(i[1])\n",
    "        \n",
    "    newdfs = []\n",
    "\n",
    "    #在來開始找規律，和剛剛找欄為一樣，這個list的某些地方是存欄位或標題等名稱，因此只要看長度是否大於2就行\n",
    "    for i in dfs:\n",
    "        if len(i) > 2:\n",
    "            newdfs.append(i)\n",
    "\n",
    "    #把所有list合併成一DataFrame\n",
    "    df = newdfs[0]\n",
    "    for i in newdfs[1:]:\n",
    "        df = pd.concat( [df, i], axis=0 )\n",
    "\n",
    "    df.columns = collist\n",
    "    \n",
    "    #把合計刪掉\n",
    "    df = df[~(df['公司代號'] == '合計')]\n",
    "    \n",
    "    #新增date欄位\n",
    "    df['date'] = pd.to_datetime(datetime.date(date.year, date.month, 1))\n",
    "    \n",
    "    df = df.rename(columns={'公司代號':'stock_id'})\n",
    "    df = df.set_index(['stock_id', 'date'])\n",
    "    \n",
    "    df = df.apply(lambda s:pd.to_numeric(s, errors='coerce'))\n",
    "    \n",
    "    #刪掉備註欄位\n",
    "    df = df.drop(['公司名稱', '備註'], axis=1)\n",
    "    \n",
    "    return df\n"
   ]
  },
  {
   "cell_type": "code",
   "execution_count": null,
   "metadata": {},
   "outputs": [],
   "source": [
    "import sqlite3\n",
    "import os\n",
    "import datetime\n",
    "\n",
    "conn = sqlite3.connect('dataBase.db')"
   ]
  },
  {
   "cell_type": "code",
   "execution_count": 14,
   "metadata": {},
   "outputs": [],
   "source": [
    "from dateutil.rrule import rrule, DAILY, MONTHLY\n",
    "\n",
    "def month_range(start_date, end_date):\n",
    "    return [dt.date() for dt in rrule(MONTHLY, dtstart=start_date, until=end_date)]"
   ]
  },
  {
   "cell_type": "code",
   "execution_count": 15,
   "metadata": {},
   "outputs": [],
   "source": [
    "import time\n",
    "def update_table(conn, table_name, crawl_function, dates):\n",
    "    \n",
    "    df = pd.DataFrame()\n",
    "    dfs = {}\n",
    "    \n",
    "    for d in dates:\n",
    "        \n",
    "        print('正在爬取: ', d)\n",
    "        \n",
    "        data = crawl_function(d)\n",
    "        \n",
    "        if data is None:\n",
    "            print('失敗，可能是假日')\n",
    "        else:\n",
    "            df = df.append(data)\n",
    "            print(d, '成功')\n",
    "        \n",
    "        if data is not None:\n",
    "            add_to_sql(conn, table_name, df)\n",
    "            df = pd.DataFrame()\n",
    "            print(d, '儲存成功')\n",
    "        \n",
    "        time.sleep(15)"
   ]
  },
  {
   "cell_type": "code",
   "execution_count": 16,
   "metadata": {},
   "outputs": [],
   "source": [
    "def add_to_sql(conn, name, df):\n",
    "    \n",
    "    exist = table_exist(conn, name)\n",
    "    ret = pd.read_sql('select * from ' + name, conn, index_col=['stock_id', 'date'])if exist else pd.DataFrame()\n",
    "    ret = ret.append(df)\n",
    "    ret.reset_index(inplace=True)\n",
    "    ret['stock_id'] = ret['stock_id'].astype(str)\n",
    "    ret['date'] = pd.to_datetime(ret['date'])\n",
    "    ret = ret.drop_duplicates(['stock_id', 'date'], keep='last')\n",
    "    ret = ret.sort_values(['stock_id', 'date']).set_index(['stock_id', 'date'])\n",
    "    \n",
    "    \n",
    "    ret.to_csv('backup.csv')\n",
    "    \n",
    "    try:\n",
    "        ret.to_sql(name, conn, if_exists='replace')\n",
    "        \n",
    "    except:\n",
    "        ret = pd.read_csv('backup.csv', parse_dates=['date'], dtype={'stock_id':str})\n",
    "        ret['stock_id'] = ret['stock_id'].astype(str)\n",
    "        ret.set_index(['stock_id', 'date'], inplace=True)\n",
    "        ret.to_sql(name, conn, if_exists='replace')\n",
    "        print(\"失敗\")\n",
    " "
   ]
  },
  {
   "cell_type": "code",
   "execution_count": 17,
   "metadata": {},
   "outputs": [],
   "source": [
    "def table_exist(conn, table):\n",
    "    return list(conn.execute(\"SELECT count(*) from sqlite_master where type='table' and name='\"+table+\"'\"))[0][0] == 1"
   ]
  },
  {
   "cell_type": "code",
   "execution_count": null,
   "metadata": {},
   "outputs": [],
   "source": [
    "fromdate = datetime.date(2017,1,1)\n",
    "toDate = datetime.date(2017,12,1)\n",
    "dates = month_range(fromdate, toDate)\n",
    "update_table(conn, 'monthRevenue', crawlMonthReport, dates)\n",
    "\n",
    "\n",
    "\n",
    "#更新紀錄2020/1~2020/6\n",
    "#更新紀錄2019/1~2019/12\n",
    "#更新紀錄2018/1~2018/12\n",
    "#更新紀錄2017/1~2017/12"
   ]
  }
 ],
 "metadata": {
  "kernelspec": {
   "display_name": "Python 3",
   "language": "python",
   "name": "python3"
  },
  "language_info": {
   "codemirror_mode": {
    "name": "ipython",
    "version": 3
   },
   "file_extension": ".py",
   "mimetype": "text/x-python",
   "name": "python",
   "nbconvert_exporter": "python",
   "pygments_lexer": "ipython3",
   "version": "3.6.6"
  }
 },
 "nbformat": 4,
 "nbformat_minor": 1
}
